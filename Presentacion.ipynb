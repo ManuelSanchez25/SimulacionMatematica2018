{
 "cells": [
  {
   "cell_type": "markdown",
   "metadata": {},
   "source": [
    "<H1 align=\"center\"> <u>Presentación</u> </H1>\n",
    "\n",
    " ## Manuel Sanchez\n",
    " - 21 años\n",
    " - Nayarit\n",
    " - Ingenierio en Sistemas Computacionales\n",
    " "
   ]
  },
  {
   "cell_type": "markdown",
   "metadata": {},
   "source": [
    " <img src=\"https://www.google.com/url?sa=i&source=images&cd=&cad=rja&uact=8&ved=2ahUKEwjXkoaPkpjbAhUNLKwKHRzzDZ8QjRx6BAgBEAU&url=https%3A%2F%2Fwww.recreoviral.com%2Fanimales%2Fperros-pequenos-tiernos-visto%2F&psig=AOvVaw0gbblkZ5OYRcbWWI4HpKar&ust=1527037813617141\",width=60,height=60>\n",
    "> Me gusta ver series, mis preferidas son: El barco, Designated Survivor y Flash. Me gusta ver y jugar el futbol, \n",
    "    mi equipo favorito es el Toluca"
   ]
  },
  {
   "cell_type": "markdown",
   "metadata": {},
   "source": [
    "Lo que espero de la matería es aprender lo que mas que pueda sobre este lenguaje de python y el uso de jupyter y otros que se necesiten en el transcurso de bimestre.\n",
    "\n",
    "<b> Espero que en la clase lo teorico se practique para un mejor \n",
    "aprendizaje.</b>"
   ]
  },
  {
   "cell_type": "markdown",
   "metadata": {},
   "source": [
    "\n"
   ]
  },
  {
   "cell_type": "code",
   "execution_count": 1,
   "metadata": {},
   "outputs": [
    {
     "name": "stderr",
     "output_type": "stream",
     "text": [
      "ERROR:root:File `'ChatbotManuel.py'` not found.\n"
     ]
    }
   ],
   "source": []
  },
  {
   "cell_type": "code",
   "execution_count": null,
   "metadata": {},
   "outputs": [],
   "source": []
  }
 ],
 "metadata": {
  "kernelspec": {
   "display_name": "Python 3",
   "language": "python",
   "name": "python3"
  },
  "language_info": {
   "codemirror_mode": {
    "name": "ipython",
    "version": 3
   },
   "file_extension": ".py",
   "mimetype": "text/x-python",
   "name": "python",
   "nbconvert_exporter": "python",
   "pygments_lexer": "ipython3",
   "version": "3.6.4"
  }
 },
 "nbformat": 4,
 "nbformat_minor": 2
}
