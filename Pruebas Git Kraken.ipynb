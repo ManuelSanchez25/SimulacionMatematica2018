{
 "cells": [
  {
   "cell_type": "code",
   "execution_count": null,
   "metadata": {},
   "outputs": [],
   "source": [
    "from time import sleep\n",
    "def print_words(sentence):\n",
    "    for word in sentence.split():\n",
    "        for l in word:\n",
    "            sleep(.08)\n",
    "            print(l,end=\"\")\n",
    "        print(end=. \"\")"
   ]
  },
  {
   "cell_type": "code",
   "execution_count": 3,
   "metadata": {},
   "outputs": [
    {
     "data": {
      "text/plain": [
       "['uno', 'dos', 'tres']"
      ]
     },
     "execution_count": 3,
     "metadata": {},
     "output_type": "execute_result"
    }
   ],
   "source": [
    "lista = [\"uno\",\"dos\",\"tres\"]\n",
    "lista"
   ]
  },
  {
   "cell_type": "code",
   "execution_count": 17,
   "metadata": {},
   "outputs": [
    {
     "data": {
      "text/plain": [
       "['¿Deseas continuar hacia la derecha?',\n",
       " '¿Deseas continuar hacia la izquierda?',\n",
       " '¿nada?']"
      ]
     },
     "execution_count": 17,
     "metadata": {},
     "output_type": "execute_result"
    }
   ],
   "source": [
    "preguntas =[\"¿Deseas continuar hacia la derecha?\",\n",
    "            \"¿Deseas continuar hacia la izquierda?\",\n",
    "           \"¿nada?\"]\n",
    "preguntas"
   ]
  },
  {
   "cell_type": "code",
   "execution_count": 10,
   "metadata": {},
   "outputs": [],
   "source": [
    "enunciado= \"En el siguiente juego, tienes tres opciones,¿Cuál eliges?\""
   ]
  },
  {
   "cell_type": "code",
   "execution_count": 11,
   "metadata": {},
   "outputs": [],
   "source": [
    "prompt =\"uno, dos , tres\""
   ]
  },
  {
   "cell_type": "code",
   "execution_count": 12,
   "metadata": {},
   "outputs": [
    {
     "name": "stdout",
     "output_type": "stream",
     "text": [
      "uno, dos , tres\n"
     ]
    }
   ],
   "source": [
    "opcion = input(prompt)"
   ]
  },
  {
   "cell_type": "code",
   "execution_count": 13,
   "metadata": {},
   "outputs": [
    {
     "data": {
      "text/plain": [
       "'¿Deseas continuar hacia la derecha?'"
      ]
     },
     "execution_count": 13,
     "metadata": {},
     "output_type": "execute_result"
    }
   ],
   "source": [
    "preguntas[0]"
   ]
  },
  {
   "cell_type": "code",
   "execution_count": 18,
   "metadata": {},
   "outputs": [
    {
     "name": "stdout",
     "output_type": "stream",
     "text": [
      "uno, dos , tresdos\n",
      "Tu opcion es ¿Deseas continuar hacia la izquierda?\n"
     ]
    }
   ],
   "source": [
    "opcion = input(prompt)\n",
    "if opcion == \"uno\" :\n",
    "    print(\"Tú pregunta es %s\" %preguntas[0])\n",
    "elif opcion ==\"dos\" :\n",
    "    print(\"Tu opcion es %s\"%preguntas[1])\n",
    "else:\n",
    "    print(\"Tu opcion es %s\"%preguntas[2])"
   ]
  },
  {
   "cell_type": "code",
   "execution_count": null,
   "metadata": {},
   "outputs": [],
   "source": []
  }
 ],
 "metadata": {
  "kernelspec": {
   "display_name": "Python 3",
   "language": "python",
   "name": "python3"
  },
  "language_info": {
   "codemirror_mode": {
    "name": "ipython",
    "version": 3
   },
   "file_extension": ".py",
   "mimetype": "text/x-python",
   "name": "python",
   "nbconvert_exporter": "python",
   "pygments_lexer": "ipython3",
   "version": "3.6.4"
  }
 },
 "nbformat": 4,
 "nbformat_minor": 2
}
