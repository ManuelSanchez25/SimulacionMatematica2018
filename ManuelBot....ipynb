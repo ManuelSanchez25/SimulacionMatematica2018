{
 "cells": [
  {
   "cell_type": "markdown",
   "metadata": {},
   "source": [
    "<H1 align=\"center\"> Chatbot Manuel </H1>"
   ]
  },
  {
   "cell_type": "markdown",
   "metadata": {},
   "source": [
    "<H4 align=\"center\"><u> Created by Manuel Sanchez </u></H4>"
   ]
  },
  {
   "cell_type": "code",
   "execution_count": 2,
   "metadata": {},
   "outputs": [],
   "source": [
    "import datetime\n",
    "x = datetime.datetime.now()\n",
    "#print (\"Hora = %s\" %x.hour)\n",
    "hora = x.hour"
   ]
  },
  {
   "cell_type": "code",
   "execution_count": 3,
   "metadata": {},
   "outputs": [
    {
     "name": "stdout",
     "output_type": "stream",
     "text": [
      "Hola buena tarde,¿Cuál es tu nombre?\n"
     ]
    }
   ],
   "source": [
    "if hora >8 and hora <12 :\n",
    "    print(\"hola buen día,¿Cual es tu nombre?\")\n",
    "if hora >12 and hora <22 :\n",
    "    print (\"Hola buena tarde,¿Cuál es tu nombre?\")"
   ]
  },
  {
   "cell_type": "code",
   "execution_count": 4,
   "metadata": {},
   "outputs": [
    {
     "name": "stdout",
     "output_type": "stream",
     "text": [
      " >> irene\n"
     ]
    }
   ],
   "source": [
    "prompt = \" >> \"\n",
    "nombre_usuario = input(prompt)"
   ]
  },
  {
   "cell_type": "code",
   "execution_count": 5,
   "metadata": {},
   "outputs": [
    {
     "name": "stdout",
     "output_type": "stream",
     "text": [
      "Hola irene bienvenido a mi chat\n",
      "¿Comó estas?\n"
     ]
    }
   ],
   "source": [
    "print(\"Hola\",nombre_usuario,\"bienvenido a mi chat\")\n",
    "print(\"¿Comó estas?\")\n"
   ]
  },
  {
   "cell_type": "code",
   "execution_count": 6,
   "metadata": {},
   "outputs": [
    {
     "name": "stdout",
     "output_type": "stream",
     "text": [
      ">>mal\n"
     ]
    }
   ],
   "source": [
    "prompt = \">>\"\n",
    "respuesta = input (prompt)"
   ]
  },
  {
   "cell_type": "code",
   "execution_count": 7,
   "metadata": {},
   "outputs": [
    {
     "name": "stdout",
     "output_type": "stream",
     "text": [
      "Me alegro! y ¿Que edad tienes?\n"
     ]
    }
   ],
   "source": [
    "print (\"Me alegro! y ¿Que edad tienes?\")"
   ]
  },
  {
   "cell_type": "code",
   "execution_count": 8,
   "metadata": {},
   "outputs": [
    {
     "name": "stdout",
     "output_type": "stream",
     "text": [
      ">>20\n"
     ]
    }
   ],
   "source": [
    "prompt = \">>\"\n",
    "respuesta1 = int(input(prompt))"
   ]
  },
  {
   "cell_type": "code",
   "execution_count": 9,
   "metadata": {},
   "outputs": [
    {
     "name": "stdout",
     "output_type": "stream",
     "text": [
      "genial, y ¿te gustán los deportes?\n"
     ]
    }
   ],
   "source": [
    "if respuesta1 > 5 and respuesta1<16 :\n",
    "    print(\"oh eres muy chico, y ¿te gustán los deportes?\")\n",
    "if respuesta1 >16 and respuesta1<90 :\n",
    "    print (\"genial, y ¿te gustán los deportes?\")"
   ]
  },
  {
   "cell_type": "code",
   "execution_count": 10,
   "metadata": {},
   "outputs": [
    {
     "name": "stdout",
     "output_type": "stream",
     "text": [
      ">>no\n"
     ]
    }
   ],
   "source": [
    "prompt = \">>\"\n",
    "respuesta2= input(prompt)"
   ]
  },
  {
   "cell_type": "code",
   "execution_count": 11,
   "metadata": {},
   "outputs": [
    {
     "name": "stdout",
     "output_type": "stream",
     "text": [
      "Bueno, y te gustá ver peliculas?\n"
     ]
    }
   ],
   "source": [
    "if respuesta2 == \"si\" :\n",
    "    print (\"¿A qué equipo le vas del futbol?\")\n",
    "if respuesta2 == \"no\":\n",
    "    print (\"Bueno, y te gustá ver peliculas?\")"
   ]
  },
  {
   "cell_type": "code",
   "execution_count": 12,
   "metadata": {},
   "outputs": [
    {
     "name": "stdout",
     "output_type": "stream",
     "text": [
      ">>si\n"
     ]
    }
   ],
   "source": [
    "if respuesta2 == \"si\" :\n",
    "    prompt = \">>\"\n",
    "    respuesta3 = input(prompt)\n",
    "if respuesta2 ==\"no\":\n",
    "    prompt = \">>\"\n",
    "    respuesta3 = input(prompt)"
   ]
  },
  {
   "cell_type": "code",
   "execution_count": 13,
   "metadata": {},
   "outputs": [
    {
     "name": "stdout",
     "output_type": "stream",
     "text": [
      "¿Te gusta verlas en cine o en tu casa?\n"
     ]
    }
   ],
   "source": [
    "if respuesta2 ==\"si\":\n",
    "    if respuesta3 == \"toluca\" :\n",
    "        print(\"Genial! yo tambien aunque perdimos en la final con el santos :(\")\n",
    "    if respuesta3 == \"america\" :\n",
    "        print(\"es un equipo muy malo son mejores las chivas\")\n",
    "    if respuesta3 == \"chivas\" : \n",
    "        print(\"Es el peor equipo jaja nunca clasifican\")\n",
    "    else :\n",
    "        print(\"Demonios! no conozco ese equipo, creo que ni en su casa lo conocen\")\n",
    "        print(\"Dejando de lado el futbol, ¿Supongo te gusta ver pelicuas...¿Te gusta verlas en vine o en tu casa?\")\n",
    "if respuesta2 ==\"no\":\n",
    "    if respuesta3 ==\"si\" :\n",
    "        print(\"¿Te gusta verlas en cine o en tu casa?\")"
   ]
  },
  {
   "cell_type": "code",
   "execution_count": 14,
   "metadata": {},
   "outputs": [
    {
     "name": "stdout",
     "output_type": "stream",
     "text": [
      ">>cine\n"
     ]
    }
   ],
   "source": [
    "prompt  =\">>\"\n",
    "respuesta4= input(prompt)"
   ]
  },
  {
   "cell_type": "code",
   "execution_count": 15,
   "metadata": {},
   "outputs": [
    {
     "name": "stdout",
     "output_type": "stream",
     "text": [
      "Genial! yo tambien prefiero verlas en cine.\n",
      "Oye... y ¿De dondé eres?\n"
     ]
    }
   ],
   "source": [
    "if respuesta4 ==\"cine\" :\n",
    "    print(\"Genial! yo tambien prefiero verlas en cine.\")\n",
    "if respuesta4== \"casa\" :\n",
    "    print(\"Mmm... yo prefiero verlas en el cine cuando es el estreno.\")\n",
    "print(\"Oye... y ¿De dondé eres?\")"
   ]
  },
  {
   "cell_type": "code",
   "execution_count": 16,
   "metadata": {},
   "outputs": [
    {
     "name": "stdout",
     "output_type": "stream",
     "text": [
      ">>keti\n"
     ]
    }
   ],
   "source": [
    "prompt =\">>\"\n",
    "respuesta5 = input(prompt)"
   ]
  },
  {
   "cell_type": "code",
   "execution_count": 115,
   "metadata": {},
   "outputs": [
    {
     "name": "stdout",
     "output_type": "stream",
     "text": [
      "Mmm... ¿eso es una ciudad real?...lo buscare\n",
      "Te gusta comer nieve?\n"
     ]
    }
   ],
   "source": [
    "if respuesta5 ==\"guadalajara\" :\n",
    "    print(\"Genial!\",nombre_usuario,\"yo tambien soy de ahí\")\n",
    "    print(\"Y.. ¿Te gusta comer nieve?\")\n",
    "else :\n",
    "    print(\"Mmm... ¿eso es una ciudad real?...lo buscare\")\n",
    "    print(\"Te gusta comer nieve?\")"
   ]
  },
  {
   "cell_type": "code",
   "execution_count": 125,
   "metadata": {},
   "outputs": [
    {
     "name": "stdout",
     "output_type": "stream",
     "text": [
      ">>no\n"
     ]
    }
   ],
   "source": [
    "prompt =\">>\"\n",
    "respuesta6=input(prompt)"
   ]
  },
  {
   "cell_type": "code",
   "execution_count": 126,
   "metadata": {},
   "outputs": [
    {
     "name": "stdout",
     "output_type": "stream",
     "text": [
      "Eres algo raro , a casí todo el mundo le fascina la nieve\n"
     ]
    }
   ],
   "source": [
    "if respuesta6 == \"si\" :\n",
    "    print(\"¿Cúal es tu sabor favorito?\")\n",
    "if respuesta6 == \"no\" :\n",
    "    print(\"Eres algo raro , a casí todo el mundo le fascina la nieve\")\n",
    "  "
   ]
  },
  {
   "cell_type": "code",
   "execution_count": 127,
   "metadata": {},
   "outputs": [],
   "source": [
    "if respuesta6 == \"si\" :\n",
    "    prompt =\">>\"\n",
    "    respuesta7 = input(prompt)\n"
   ]
  },
  {
   "cell_type": "code",
   "execution_count": 130,
   "metadata": {},
   "outputs": [
    {
     "name": "stdout",
     "output_type": "stream",
     "text": [
      "Sabe rico... pero mi preferido es el sabor de limon\n",
      "Bueno tengo que retirarme,¿ Fue un placer platicar contigo\n"
     ]
    }
   ],
   "source": [
    "\n",
    "if respuesta7 ==\"Limon\" :\n",
    "    print(\"Mi sabor favorito es el de vainilla\")\n",
    "    print(\"Bueno tengo que retirarme, ¿Fue un placer platicar contigo\")\n",
    "else :\n",
    "    print(\"Sabe rico... pero mi preferido es el sabor de limon\")\n",
    "    print(\"Bueno tengo que retirarme,¿ Fue un placer platicar contigo\")\n",
    "if respuesta1 <16 :\n",
    "    print(\"Aunque eres menor de edad y joven fue muy amena la platica espero\")\n",
    "    "
   ]
  },
  {
   "cell_type": "code",
   "execution_count": null,
   "metadata": {},
   "outputs": [],
   "source": []
  }
 ],
 "metadata": {
  "kernelspec": {
   "display_name": "Python 3",
   "language": "python",
   "name": "python3"
  },
  "language_info": {
   "codemirror_mode": {
    "name": "ipython",
    "version": 3
   },
   "file_extension": ".py",
   "mimetype": "text/x-python",
   "name": "python",
   "nbconvert_exporter": "python",
   "pygments_lexer": "ipython3",
   "version": "3.6.4"
  }
 },
 "nbformat": 4,
 "nbformat_minor": 2
}
